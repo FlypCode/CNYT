{
 "cells": [
  {
   "cell_type": "markdown",
   "metadata": {},
   "source": [
    "<div style=\"border-radius: 10px; border-style: solid; border-color: red;background-color: #fcf3cf; padding: 10pt\">\n",
    "\n",
    "# Laboratorio 1\n",
    "\n",
    "*Números complejos - Parte 1*\n",
    "\n",
    "Diseño de la actividad y documento: Sergio Tello\n",
    "\n",
    "**Estudiante:** Andres Felipe Parra Q.\n",
    "\n",
    "</div>"
   ]
  },
  {
   "cell_type": "markdown",
   "metadata": {},
   "source": [
    "## 1. Números complejos en Python (tiempo total: 1 hora y 30 minutos)\n",
    "\n",
    "En esta actividad aprenderás:\n",
    "\n",
    "* Cómo podemos codificar un número complejo para implementarlo en nuestro computador.\n",
    "* A usar algunos elementos de la librería ```numpy``` relacionados con la matemática general y con los números complejos.\n",
    "* Cómo graficar un número complejo (flecha) usando la librería ```matplotlib```."
   ]
  },
  {
   "cell_type": "markdown",
   "metadata": {},
   "source": [
    "### 1.1. Números complejos en Python (tiempo: 45 minuntos)\n",
    "\n",
    "¿Te has preguntado cómo implementar un número del conjunto de los complejos $\\mathbb{C}$ y las operaciones entre complejos en un computador? Aunque, en principio, los números complejos parezcan extraños hay formas muy simples de codificarlos, por ejemplo, como una lista (o arreglo o tupla) de dos números (flotantes): su parte real y su parte imaginaria.\n",
    "\n",
    "Por ejemplo: \n",
    "\n",
    "$$i \\xrightarrow{\\text{se codifica}} [0, 1]$$\n",
    "\n",
    "y\n",
    "\n",
    "$$2 - 3i \\xrightarrow{\\text{se codifica}} [2, -3]$$\n",
    "\n",
    "En general,\n",
    "\n",
    "$$a + bi \\xrightarrow{\\text{se codifica}} [a, b]$$\n"
   ]
  },
  {
   "cell_type": "markdown",
   "metadata": {},
   "source": [
    "<div style=\"background-color: #f5b7b1; padding: 10pt\">\n",
    "    \n",
    "**Ejemplo.** Vamos a escribir una función ```parte_real``` que reciba una lista de dos números (es decir, un complejo codificado) y retorne el número correspondiente a la parte real del complejo.\n",
    "\n",
    "Por ejemplo al ejecutar:\n",
    "\n",
    "```python\n",
    "parte_real([4, -7])\n",
    "```\n",
    "\n",
    "Debemos obtener como resultado:\n",
    "\n",
    "```python\n",
    "4\n",
    "```\n",
    "\n",
    "Puesto que la parte real de $4 - 7i$ es $4$.\n",
    "</div>"
   ]
  },
  {
   "cell_type": "code",
   "execution_count": 3,
   "metadata": {},
   "outputs": [],
   "source": [
    "# Desarrollaremos el ejemplo en esta celda. \n",
    "\n",
    "def parte_real(lista_complejo):\n",
    "    '''\n",
    "    Función que recibe un número complejo: lista_complejo\n",
    "    codificado como una lista de dos números de acuerdo a: a + bi ---> [a, b]\n",
    "    La función retorna la parte real del número recibido.\n",
    "    '''\n",
    "    # Completa la función pedida\n",
    "    \n",
    "    return lista_complejo[0]"
   ]
  },
  {
   "cell_type": "markdown",
   "metadata": {},
   "source": [
    "Prueba tu función ejecutando en la siguiente celda la instrucción:\n",
    "\n",
    "```python\n",
    "parte_real([4, -7])\n",
    "```"
   ]
  },
  {
   "cell_type": "code",
   "execution_count": 6,
   "metadata": {},
   "outputs": [
    {
     "data": {
      "text/plain": [
       "4"
      ]
     },
     "execution_count": 6,
     "metadata": {},
     "output_type": "execute_result"
    }
   ],
   "source": [
    "# Realizaremos en esta celda la prueba de nuestra función\n",
    "parte_real([4,-7])"
   ]
  },
  {
   "cell_type": "markdown",
   "metadata": {},
   "source": [
    "<div style=\"background-color: #aed6f1; padding: 10pt\">\n",
    "    \n",
    "**Reto 1.** Escribe una función ```parte_imaginaria``` que reciba una lista de dos números (es decir, un complejo codificado) y retorne el número correspondiente a la parte imaginaria del complejo.\n",
    "\n",
    "Por ejemplo al ejecutar:\n",
    "\n",
    "```python\n",
    "parte_imaginaria([4, -7])\n",
    "```\n",
    "\n",
    "Debes obtener como valor retornado:\n",
    "\n",
    "```python\n",
    "-7\n",
    "```\n",
    "\n",
    "Puesto que la parte imaginaria de $4 - 7i$ es $-7$.\n",
    "</div>"
   ]
  },
  {
   "cell_type": "code",
   "execution_count": 7,
   "metadata": {},
   "outputs": [],
   "source": [
    "# Desarrolla el reto 1 en esta celda. Si necesitas más celdas las puedes insertar manualmente.\n",
    "\n",
    "def parte_imaginaria(lista_complejo):\n",
    "    '''\n",
    "    Función que recibe un número complejo: lista_complejo\n",
    "    codificado como una lista de dos números de acuerdo a: a + bi ---> [a, b]\n",
    "    La función retorna la parte imaginaria del número recibido.\n",
    "    '''\n",
    "    # Completa la función pedida\n",
    "    \n",
    "    return lista_complejo[1]"
   ]
  },
  {
   "cell_type": "markdown",
   "metadata": {},
   "source": [
    "Prueba tu función ejecutando en la siguiente celda la instrucción:\n",
    "\n",
    "```python\n",
    "parte_imaginaria([4, -7])\n",
    "```"
   ]
  },
  {
   "cell_type": "code",
   "execution_count": 8,
   "metadata": {},
   "outputs": [
    {
     "data": {
      "text/plain": [
       "-7"
      ]
     },
     "execution_count": 8,
     "metadata": {},
     "output_type": "execute_result"
    }
   ],
   "source": [
    "# Realiza en esta celda la prueba de tu función\n",
    "parte_imaginaria([4, -7])"
   ]
  },
  {
   "cell_type": "markdown",
   "metadata": {},
   "source": [
    "<div style=\"background-color: #aed6f1; padding: 10pt\">\n",
    "\n",
    "**Reto 2.** Escribe las funciones ```conjugado``` y ```modulo``` que reciban un complejo codificado como lista cada una y retornen, respectivamente: la lista que codifica al número complejo correspondiente al conjugado del número recibido y el módulo del número recibido.\n",
    "\n",
    "Por ejemplo al ejecutar:\n",
    "\n",
    "```python\n",
    "conjugado([4, -7])\n",
    "```\n",
    "\n",
    "Debes obtener como lista retornada:\n",
    "\n",
    "```python\n",
    "[4, 7]\n",
    "```\n",
    "\n",
    "Ya que: $\\overline{4 - 7i}  = 4 + 7i$\n",
    "    \n",
    "De igual manera, al ejecutar:\n",
    "    \n",
    "```python\n",
    "modulo([4, -3])\n",
    "```\n",
    "\n",
    "Debes obtener como valor retornado:\n",
    "\n",
    "```python\n",
    "5\n",
    "```\n",
    "\n",
    "Ya que: $|4 - 3i| = \\sqrt{4^2 + (-3)^2}  = \\sqrt{25} = 5$\n",
    "\n",
    "</div>"
   ]
  },
  {
   "cell_type": "code",
   "execution_count": 32,
   "metadata": {},
   "outputs": [],
   "source": [
    "# Desarrolla el reto 2 (conjugado) en esta celda. Si necesitas más celdas las puedes insertar manualmente.\n",
    "\n",
    "def conjugado(lista_complejo):\n",
    "    '''\n",
    "    Función que recibe un número complejo: lista_complejo\n",
    "    codificado como una lista de dos números de acuerdo a: a + bi ---> [a, b]\n",
    "    La función retorna el conjugado del número recibido.\n",
    "    '''\n",
    "    # Completa la función pedida\n",
    "    import math\n",
    "    \n",
    "    return [abs(lista_complejo[0]),abs(lista_complejo[1])]"
   ]
  },
  {
   "cell_type": "markdown",
   "metadata": {},
   "source": [
    "Prueba tu función ejecutando en la siguiente celda la instrucción:\n",
    "\n",
    "```python\n",
    "conjugado([4, -7])\n",
    "```"
   ]
  },
  {
   "cell_type": "code",
   "execution_count": 33,
   "metadata": {},
   "outputs": [
    {
     "data": {
      "text/plain": [
       "[4, 7]"
      ]
     },
     "execution_count": 33,
     "metadata": {},
     "output_type": "execute_result"
    }
   ],
   "source": [
    "# Realiza en esta celda la prueba de tu función conjugado\n",
    "conjugado([4, -7])"
   ]
  },
  {
   "cell_type": "markdown",
   "metadata": {},
   "source": [
    "Para la función que calcula el módulo de un complejo, usa las funciones ```parte_real``` y ```parte_imaginaria``` que ya tienes definidas. Recuerda que sacar raíz cuadrada es equivalente a elevar al exponente $1/2 = 0.5$. Por ejemplo, para cualcular en Python el número $\\sqrt{196}$, puedes hacer la operación:\n",
    "\n",
    "```python\n",
    "(196)**0.5\n",
    "```"
   ]
  },
  {
   "cell_type": "code",
   "execution_count": 39,
   "metadata": {},
   "outputs": [],
   "source": [
    "# Desarrolla el reto 2 (módulo) en esta celda. Si necesitas más celdas las puedes insertar manualmente.\n",
    "\n",
    "def modulo(lista_complejo):\n",
    "    '''\n",
    "    Función que recibe un número complejo: lista_complejo\n",
    "    codificado como una lista de dos números de acuerdo a: a + bi ---> [a, b]\n",
    "    La función retorna el módulo del número recibido.\n",
    "    '''\n",
    "    # Completa la función pedida\n",
    "    import math\n",
    "    return int(math.sqrt(parte_real(lista_complejo)**2 + parte_imaginaria(lista_complejo)**2))"
   ]
  },
  {
   "cell_type": "markdown",
   "metadata": {},
   "source": [
    "Prueba tu función ejecutando en la siguiente celda la instrucción:\n",
    "\n",
    "```python\n",
    "modulo([4, -3])\n",
    "```"
   ]
  },
  {
   "cell_type": "code",
   "execution_count": 40,
   "metadata": {},
   "outputs": [
    {
     "data": {
      "text/plain": [
       "5"
      ]
     },
     "execution_count": 40,
     "metadata": {},
     "output_type": "execute_result"
    }
   ],
   "source": [
    "# Realiza en esta celda la prueba de tu función conjugado\n",
    "modulo([4, -3])"
   ]
  },
  {
   "cell_type": "markdown",
   "metadata": {},
   "source": [
    "<div style=\"background-color: #aed6f1; padding: 10pt\">\n",
    "\n",
    "**Reto 3.** Escribe una función ```suma_de_complejos``` que reciba dos listas de dos números cada una (es decir, complejos codificados) y retorne la lista que codifica al número complejo correspondiente a la suma de los dos recibidos.\n",
    "\n",
    "Por ejemplo al ejecutar:\n",
    "\n",
    "```python\n",
    "suma_de_complejos([4, -7], [-5, 10])\n",
    "```\n",
    "\n",
    "Debes obtener como lista retornada:\n",
    "\n",
    "```python\n",
    "[-1, 3]\n",
    "```\n",
    "\n",
    "Ya que:\n",
    "\n",
    "$$ (4 - 7i) + (-5 + 10i) = -1 + 3i$$\n",
    "\n",
    "</div>"
   ]
  },
  {
   "cell_type": "code",
   "execution_count": 44,
   "metadata": {},
   "outputs": [],
   "source": [
    "# Desarrolla el reto 2 en esta celda. Si necesitas más celdas las puedes insertar manualmente.\n",
    "\n",
    "def suma_de_complejos(lista_complejo_1, lista_complejo_2):\n",
    "    '''\n",
    "    Función que recibe dos números complejos: lista_complejo_1 y lista_complejo_2\n",
    "    codificados cada uno como una lista de dos números de acuerdo a: a + bi ---> [a, b]\n",
    "    La función retorna la lista que codifica la suma de de los dos complejos recibidos. \n",
    "    '''\n",
    "    # Completa la función pedida\n",
    "    \n",
    "    return [parte_real(lista_complejo_1)+parte_real(lista_complejo_2), parte_imaginaria(lista_complejo_1)+parte_imaginaria(lista_complejo_2)]"
   ]
  },
  {
   "cell_type": "markdown",
   "metadata": {},
   "source": [
    "Prueba tu función ejecutando en la siguiente celda la instrucción:\n",
    "\n",
    "```python\n",
    "suma_de_complejos([4, -7], [-5, 10])\n",
    "```"
   ]
  },
  {
   "cell_type": "code",
   "execution_count": 45,
   "metadata": {},
   "outputs": [
    {
     "data": {
      "text/plain": [
       "[-1, 3]"
      ]
     },
     "execution_count": 45,
     "metadata": {},
     "output_type": "execute_result"
    }
   ],
   "source": [
    "# Realiza en esta celda la prueba de tu función\n",
    "suma_de_complejos([4, -7], [-5, 10])"
   ]
  },
  {
   "cell_type": "markdown",
   "metadata": {},
   "source": [
    "¿Has finalizado los retos exitosamente? ¡Muy bien! Te llevas contigo la idea que, de forma análoga, puedes implementar las demás operaciones entre números complejos como el producto o la división. Espero que hayas apreciado la fuerte relación que hay entre estructuras matemáticas y estructuras de datos. ¡Una estructura tan sencilla como una lista es lo suficientemente poderosa para permitirnos trabajar con números complejos en nuestros computadores!"
   ]
  },
  {
   "cell_type": "markdown",
   "metadata": {},
   "source": [
    "### 1.2. Números complejos en Python y NumPy (tiempo: 15 minutos)"
   ]
  },
  {
   "cell_type": "markdown",
   "metadata": {},
   "source": [
    "Por supuesto que Python ya viene equipado con su propia codificación de los números complejos. Ten en cuenta que lo que veremos a continuación aunque se vea más natural tiene tras de sí lo trabajado arriba. (Vale la pena aclarar que en Python los complejos no son listas sino ***objetos de una clase*** especialmente creada para su manejo)."
   ]
  },
  {
   "cell_type": "markdown",
   "metadata": {},
   "source": [
    "El número $i$ se escribe como\n",
    "\n",
    "```python\n",
    "1j\n",
    "```\n",
    "\n",
    "Calcula en la siguiente celda el valor de $i^2 = i  \\times i$ ejecutando:\n",
    "\n",
    "\n",
    "```python\n",
    "1j * 1j\n",
    "```"
   ]
  },
  {
   "cell_type": "code",
   "execution_count": 46,
   "metadata": {},
   "outputs": [
    {
     "data": {
      "text/plain": [
       "(-1+0j)"
      ]
     },
     "execution_count": 46,
     "metadata": {},
     "output_type": "execute_result"
    }
   ],
   "source": [
    "# Calcula aquí el valor de i al cuadrado\n",
    "1j * 1j"
   ]
  },
  {
   "cell_type": "markdown",
   "metadata": {},
   "source": [
    "Ten en cuenta que el ```1``` que acompaña a la ```j``` es importante ya que la ```j``` (sola) es interpretada como el nombre de una variable. La letra $j$ se usa para denotar la unidad imaginaria ($\\sqrt{-1}$) en áreas como la de la electricidad para evitar confusiones con la letra $i$ o $I$ que denota la corriente. ¿Por qué crees que no se haya usado la ```i``` para representar la unidad imaginaria en Python?"
   ]
  },
  {
   "cell_type": "markdown",
   "metadata": {},
   "source": [
    "Un número como $-2 + 7.2\\ i$ lo podemos escribir así:\n",
    "\n",
    "```python\n",
    "-2 + 7.2*1j\n",
    "```"
   ]
  },
  {
   "cell_type": "markdown",
   "metadata": {},
   "source": [
    "Si tienes un número complejo como\n",
    "\n",
    "```python\n",
    "c = -17 + 4.18*1j\n",
    "```\n",
    "\n",
    "Puedes acceder a su parte real por medio de:\n",
    "\n",
    "```python\n",
    "c.real\n",
    "```\n",
    "\n",
    "y a su parte imaginaria escribiendo:\n",
    "\n",
    "```python\n",
    "c.imag\n",
    "```\n",
    "\n",
    "O también podemos usar ```(-17 + 4.18*1j).real``` o ```(-17 + 4.18*1j).imag```."
   ]
  },
  {
   "cell_type": "markdown",
   "metadata": {},
   "source": [
    "Los símbolos para las operaciones de suma, resta, producto y división son los tradicionales. Para elevar una base a un exponente usamos ```**``` (como también es tradicional), por ejemplo, para calcular $(-3)^2$:\n",
    "\n",
    "```python\n",
    "(-3)**2\n",
    "```"
   ]
  },
  {
   "cell_type": "markdown",
   "metadata": {},
   "source": [
    "<div style=\"background-color: #aed6f1; padding: 10pt\">\n",
    "\n",
    "**Ejercicio 1.** Calcula el resultado de las siguientes operaciones:\n",
    "    \n",
    "a. $\\mathrm{Re}(-5 + 2i)$ (parte real)\n",
    "    \n",
    "b. $\\mathrm{Im}(-5 + 2i)$ (parte imaginaria)    \n",
    "    \n",
    "c. $(4 - 7i) + (-5 + 10i)$\n",
    "    \n",
    "d. $(-10 + 2i) \\cdot (3 - 7i)$\n",
    "\n",
    "e. $(-2 + 3i)^3$\n",
    "\n",
    "f. $\\frac{(3 - 2i)}{(-4 + i)}$\n",
    "    \n",
    "</div>"
   ]
  },
  {
   "cell_type": "code",
   "execution_count": 47,
   "metadata": {},
   "outputs": [
    {
     "data": {
      "text/plain": [
       "-5.0"
      ]
     },
     "execution_count": 47,
     "metadata": {},
     "output_type": "execute_result"
    }
   ],
   "source": [
    "# Calcula la parte a. en esta celda\n",
    "-5+2j.real"
   ]
  },
  {
   "cell_type": "code",
   "execution_count": 48,
   "metadata": {},
   "outputs": [
    {
     "data": {
      "text/plain": [
       "-3.0"
      ]
     },
     "execution_count": 48,
     "metadata": {},
     "output_type": "execute_result"
    }
   ],
   "source": [
    "# Calcula la parte b. en esta celda\n",
    "-5+2j.imag"
   ]
  },
  {
   "cell_type": "code",
   "execution_count": 49,
   "metadata": {},
   "outputs": [
    {
     "data": {
      "text/plain": [
       "(-1+3j)"
      ]
     },
     "execution_count": 49,
     "metadata": {},
     "output_type": "execute_result"
    }
   ],
   "source": [
    "# Calcula la parte c. en esta celda\n",
    "(4-7j) + (-5+10j)"
   ]
  },
  {
   "cell_type": "code",
   "execution_count": 50,
   "metadata": {},
   "outputs": [
    {
     "data": {
      "text/plain": [
       "(-16+76j)"
      ]
     },
     "execution_count": 50,
     "metadata": {},
     "output_type": "execute_result"
    }
   ],
   "source": [
    "# Calcula la parte d. en esta celda\n",
    "(-10+2j) * (3-7j)"
   ]
  },
  {
   "cell_type": "code",
   "execution_count": 51,
   "metadata": {},
   "outputs": [
    {
     "data": {
      "text/plain": [
       "(46+9j)"
      ]
     },
     "execution_count": 51,
     "metadata": {},
     "output_type": "execute_result"
    }
   ],
   "source": [
    "# Calcula la parte e. en esta celda\n",
    "(-2+3j)**3"
   ]
  },
  {
   "cell_type": "code",
   "execution_count": 54,
   "metadata": {},
   "outputs": [
    {
     "data": {
      "text/plain": [
       "(-0.8235294117647058+0.29411764705882354j)"
      ]
     },
     "execution_count": 54,
     "metadata": {},
     "output_type": "execute_result"
    }
   ],
   "source": [
    "# Calcula la parte f. en esta celda\n",
    "(3-2j) / (-4+1j)"
   ]
  },
  {
   "cell_type": "markdown",
   "metadata": {},
   "source": [
    "Con respecto al último ejercicio, observa que en algunas oportunidades resultará más clara una expresión cerrada (desarrollada *a mano*) que la expresión decimal calculada por el computador. Debemos estar en capacidad de usar ambos métodos en diferentes contextos y de interpretar los resultados correctamente."
   ]
  },
  {
   "cell_type": "markdown",
   "metadata": {},
   "source": [
    "Para ampliar nuestros recursos de trabajo matemático en Python vamos a importar la librería ```numpy```. La importaremos con el alias ```np```, como es tradicional hacerlo."
   ]
  },
  {
   "cell_type": "code",
   "execution_count": 58,
   "metadata": {},
   "outputs": [],
   "source": [
    "import numpy as np"
   ]
  },
  {
   "cell_type": "markdown",
   "metadata": {},
   "source": [
    "Gracias a ```numpy``` podremos acceder a las funciones: ```np.conj``` y ```np.abs``` para calcular el conjugado y el módulo de un número complejo, respectivamente."
   ]
  },
  {
   "cell_type": "markdown",
   "metadata": {},
   "source": [
    "<div style=\"background-color: #aed6f1; padding: 10pt\">\n",
    "\n",
    "**Ejercicio 2.** Calcula el resultado de las siguientes operaciones:\n",
    "    \n",
    "a. $\\overline{(-2 + \\pi i)}$\n",
    "    \n",
    "b. $\\left |\\sqrt{3} - \\sqrt{22}\\ i \\right|$\n",
    "    \n",
    "**Nota**: También puedes calcular raíces cuadradas usando la función ```np.sqrt``` y puedes acceder al valor de la constante $\\pi$ almacenada en ```np.pi```.\n",
    "    \n",
    "</div>"
   ]
  },
  {
   "cell_type": "code",
   "execution_count": 65,
   "metadata": {},
   "outputs": [
    {
     "data": {
      "text/plain": [
       "(-2-3.141592653589793j)"
      ]
     },
     "execution_count": 65,
     "metadata": {},
     "output_type": "execute_result"
    }
   ],
   "source": [
    "# Calcula la parte a. en esta celda\n",
    "np.conj(-2+np.pi*1j)"
   ]
  },
  {
   "cell_type": "code",
   "execution_count": 66,
   "metadata": {},
   "outputs": [
    {
     "data": {
      "text/plain": [
       "5.0"
      ]
     },
     "execution_count": 66,
     "metadata": {},
     "output_type": "execute_result"
    }
   ],
   "source": [
    "# Calcula la parte b. en esta celda\n",
    "np.abs(np.sqrt(3)-np.sqrt(22)*1j)"
   ]
  },
  {
   "cell_type": "markdown",
   "metadata": {},
   "source": [
    "### 1.3. Graficar números complejos como flechas (tiempo: 30 minutos)"
   ]
  },
  {
   "cell_type": "markdown",
   "metadata": {},
   "source": [
    "Para graficar números complejos (representándolos como flechas) vamos a usar la librería ```matplotlib```. Vamos a importar las herramientas de graficación matemática de esta librería con el alias ```plt```."
   ]
  },
  {
   "cell_type": "code",
   "execution_count": 67,
   "metadata": {},
   "outputs": [
    {
     "name": "stderr",
     "output_type": "stream",
     "text": [
      "Matplotlib is building the font cache; this may take a moment.\n"
     ]
    }
   ],
   "source": [
    "import matplotlib.pyplot as plt"
   ]
  },
  {
   "cell_type": "markdown",
   "metadata": {},
   "source": [
    "En el siguiente ejemplo mostramos lo mínimo requerido para graficar una flecha que va desde el punto $(0, 0)$ (el origen) hasta el punto $(2, 1)$: "
   ]
  },
  {
   "cell_type": "code",
   "execution_count": 68,
   "metadata": {},
   "outputs": [
    {
     "data": {
      "image/png": "[encoded data removed]",
      "text/plain": [
       "<Figure size 432x288 with 1 Axes>"
      ]
     },
     "metadata": {
      "needs_background": "light"
     },
     "output_type": "display_data"
    }
   ],
   "source": [
    "fig, ax = plt.subplots()\n",
    "\n",
    "ax.arrow(0, 0, 2, 1)\n",
    "\n",
    "plt.show()"
   ]
  },
  {
   "cell_type": "markdown",
   "metadata": {},
   "source": [
    "Podemos observar varios inconvenientes: \n",
    "\n",
    "- No se distingue muy claramente la cabeza de la flecha\n",
    "- El gráfico no tiene un título que lo describa\n",
    "- Los ejes no están etiquetados y no sabemos qué indica cada uno\n",
    "- La flecha no cuenta con una etiqueta que la describa"
   ]
  },
  {
   "cell_type": "markdown",
   "metadata": {},
   "source": [
    "Ejecuta la siguiente celda e identifica cómo se han solucionado los problemas mencionados arriba. Además hemos agregado color a cada flecha, una cuadrícula y hemos personalizado el tamaño de la figura que contiene al gráfico atribuyéndole al parámetro ```figsize``` las dimensiones ```(15, 7)```. (Quita el comentario a la instrucción ```ax.axis('square')``` para obtener una escala igual para ambos ejes)."
   ]
  },
  {
   "cell_type": "code",
   "execution_count": 69,
   "metadata": {},
   "outputs": [
    {
     "data": {
      "image/png": "[encoded data removed]",
      "text/plain": [
       "<Figure size 1080x504 with 1 Axes>"
      ]
     },
     "metadata": {
      "needs_background": "light"
     },
     "output_type": "display_data"
    }
   ],
   "source": [
    "fig, ax = plt.subplots(figsize=(15, 7))\n",
    "\n",
    "ax.arrow(0, 0, 2, 1, color='red', head_width = 0.05)\n",
    "ax.annotate('2 + i', xy=(2, 1), xytext =(0, 10), textcoords='offset pixels')\n",
    "ax.arrow(0, 0, -3, -2, color='blue', head_width = 0.05)\n",
    "ax.annotate('-3 - 2i', xy=(-3, -2), xytext =(0, -10), textcoords='offset pixels')\n",
    "ax.grid()\n",
    "#ax.axis('square')\n",
    "ax.set_title('Plano complejo')\n",
    "ax.set_xlabel('Eje real')\n",
    "ax.set_ylabel('Eje imaginario')\n",
    "\n",
    "plt.show()"
   ]
  },
  {
   "cell_type": "markdown",
   "metadata": {},
   "source": [
    "<div style=\"background-color: #aed6f1; padding: 10pt\">\n",
    "\n",
    "**Reto 4.** En una celda asigna valores complejos a las variables ```c1``` y ```c2```. Grafica en forma de flechas (usando lo visto arriba) los números ```c1``` (en rojo), ```c2``` (en azul) y el producto (multiplicación) de los dos (en un tercer color). Etiqueta las flechas debidamente. \n",
    "\n",
    "</div>"
   ]
  },
  {
   "cell_type": "code",
   "execution_count": 78,
   "metadata": {},
   "outputs": [
    {
     "data": {
      "image/png": "[encoded data removed]",
      "text/plain": [
       "<Figure size 1080x504 with 1 Axes>"
      ]
     },
     "metadata": {
      "needs_background": "light"
     },
     "output_type": "display_data"
    }
   ],
   "source": [
    "fig, ax = plt.subplots(figsize=(15, 7))\n",
    "\n",
    "c1 = (5+2j)\n",
    "c2 = (-5+2j)\n",
    "\n",
    "ax.arrow(0, 0, c1.real, c1.imag, color='red', head_width = 0.05)\n",
    "ax.annotate(c1, xy=(c1.real, c1.imag), xytext =(0, 10), textcoords='offset pixels')\n",
    "ax.arrow(0, 0, c2.real, c2.imag, color='blue', head_width = 0.05)\n",
    "ax.annotate(c2, xy=(c2.real, c2.imag), xytext =(0, 10), textcoords='offset pixels')\n",
    "ax.grid()\n",
    "\n",
    "#ax.axis('square')\n",
    "\n",
    "ax.set_title('Plano complejo')\n",
    "ax.set_xlabel('Eje real')\n",
    "ax.set_ylabel('Eje imaginario')\n",
    "\n",
    "plt.show()"
   ]
  },
  {
   "cell_type": "markdown",
   "metadata": {},
   "source": [
    "## Ejercicios adicionales\n",
    "\n",
    "* Implementa las funciones para el cálculo de las operaciones de producto y división en el espíritu de la sección 1.1. de este Notebook.\n",
    "* Si ya viste *Programación orientada a objetos* puedes diseñar y crear tu propia clase ```Complejo```.\n",
    "* Escribe una función que reciba un valor de probabilidad ```valor_probabilidad``` (como un número entre 0 y 1, inclusive) y que retorne un número complejo cuyo módulo cuadrado sea igual a ```valor_probabilidad```. \n",
    "* Amplía el trabajo del reto 4 para visualizar el resultado de las operaciones de: suma, resta y división entre dos números complejos. Asimismo puedes visualizar el módulo o el conjugado de un complejo. En cambio de usar una celda para cada operación, puedes usar el poder de los ```subplots```: https://matplotlib.org/stable/gallery/subplots_axes_and_figures/subplots_demo.html\n"
   ]
  },
  {
   "cell_type": "markdown",
   "metadata": {},
   "source": [
    "* Escribe una función que reciba un valor de probabilidad ```valor_probabilidad``` (como un número entre 0 y 1, inclusive) y que retorne un número complejo cuyo módulo cuadrado sea igual a ```valor_probabilidad```. "
   ]
  },
  {
   "cell_type": "code",
   "execution_count": null,
   "metadata": {},
   "outputs": [],
   "source": [
    "def valor_probabilidad(x):\n",
    "     "
   ]
  },
  {
   "cell_type": "markdown",
   "metadata": {},
   "source": [
    "## Referencias\n",
    "\n",
    "- **Noson Yanofsky y Mirco Mannucci.** *Quantum Computing for Computer Scientists.* Cambridge University Press. 2008. En este texto se acompaña la exposición del tema *números complejos* con una serie de ejercicios de programación que tienen como objetivo la construcción de una librería de operaciones sobre y entre números complejos representados como arreglos de tamaño 2.\n",
    "\n",
    "- **Matplotlib**. https://matplotlib.org/\n",
    "\n",
    "- **NumPy**. https://numpy.org/\n",
    "\n",
    "---\n",
    "\n",
    "Sergio Tello - 2022"
   ]
  }
 ],
 "metadata": {
  "kernelspec": {
   "display_name": "Python 3 (ipykernel)",
   "language": "python",
   "name": "python3"
  },
  "language_info": {
   "codemirror_mode": {
    "name": "ipython",
    "version": 3
   },
   "file_extension": ".py",
   "mimetype": "text/x-python",
   "name": "python",
   "nbconvert_exporter": "python",
   "pygments_lexer": "ipython3",
   "version": "3.8.13"
  },
  "widgets": {
   "application/vnd.jupyter.widget-state+json": {
    "state": {},
    "version_major": 2,
    "version_minor": 0
   }
  }
 },
 "nbformat": 4,
 "nbformat_minor": 4
}
